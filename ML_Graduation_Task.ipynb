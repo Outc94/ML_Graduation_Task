{
 "cells": [
  {
   "cell_type": "markdown",
   "metadata": {},
   "source": [
    "# Machine Learning Graduation Task"
   ]
  },
  {
   "cell_type": "markdown",
   "metadata": {},
   "source": [
    "https://www.kaggle.com/joniarroba/noshowappointments"
   ]
  },
  {
   "cell_type": "markdown",
   "metadata": {},
   "source": [
    "**We proposed in the Web Engineering Final Project, a [Hospital Appointments Management System (HAMS)](https://morning-badlands-31060.herokuapp.com) . However, a patient may eventually not even show up for the appointment. Identifying potential no-shows can help healthcare institutions pursue targeted interventions (e.g. reminder phone calls, double-book an appointment slot) to reduce no-shows and financial loss. \n",
    "That's why, based on the dataset provided in Kaggle where 110.527 medical appointments are available, we will predict the ShowUp or NoShowUp to an appointment. This work will help us identify the best model for predicting the appointments show up/no show up based on the data of our platform (once deploy and operational)**."
   ]
  },
  {
   "cell_type": "code",
   "execution_count": 5,
   "metadata": {},
   "outputs": [],
   "source": [
    "import pandas as pd\n",
    "import numpy as np\n",
    "import seaborn as sns\n",
    "from datetime import datetime\n",
    "import matplotlib.pyplot as plt\n",
    "from sklearn.utils import resample, shuffle\n",
    "from sklearn.preprocessing import StandardScaler, MinMaxScaler\n",
    "from sklearn.ensemble import RandomForestClassifier, GradientBoostingClassifier\n",
    "from sklearn.model_selection import GridSearchCV, learning_curve, train_test_split\n",
    "from sklearn.metrics import f1_score, confusion_matrix ,accuracy_score\n",
    "from sklearn.metrics import precision_score, recall_score"
   ]
  },
  {
   "cell_type": "markdown",
   "metadata": {},
   "source": [
    "## Dataset - Most important points"
   ]
  },
  {
   "cell_type": "code",
   "execution_count": 6,
   "metadata": {},
   "outputs": [
    {
     "data": {
      "text/html": [
       "<div>\n",
       "<style scoped>\n",
       "    .dataframe tbody tr th:only-of-type {\n",
       "        vertical-align: middle;\n",
       "    }\n",
       "\n",
       "    .dataframe tbody tr th {\n",
       "        vertical-align: top;\n",
       "    }\n",
       "\n",
       "    .dataframe thead th {\n",
       "        text-align: right;\n",
       "    }\n",
       "</style>\n",
       "<table border=\"1\" class=\"dataframe\">\n",
       "  <thead>\n",
       "    <tr style=\"text-align: right;\">\n",
       "      <th></th>\n",
       "      <th>PatientId</th>\n",
       "      <th>AppointmentID</th>\n",
       "      <th>Gender</th>\n",
       "      <th>ScheduledDay</th>\n",
       "      <th>AppointmentDay</th>\n",
       "      <th>Age</th>\n",
       "      <th>Neighbourhood</th>\n",
       "      <th>Scholarship</th>\n",
       "      <th>Hipertension</th>\n",
       "      <th>Diabetes</th>\n",
       "      <th>Alcoholism</th>\n",
       "      <th>Handcap</th>\n",
       "      <th>SMS_received</th>\n",
       "      <th>No-show</th>\n",
       "    </tr>\n",
       "  </thead>\n",
       "  <tbody>\n",
       "    <tr>\n",
       "      <th>0</th>\n",
       "      <td>2.987250e+13</td>\n",
       "      <td>5642903</td>\n",
       "      <td>F</td>\n",
       "      <td>2016-04-29T18:38:08Z</td>\n",
       "      <td>2016-04-29T00:00:00Z</td>\n",
       "      <td>62</td>\n",
       "      <td>JARDIM DA PENHA</td>\n",
       "      <td>0</td>\n",
       "      <td>1</td>\n",
       "      <td>0</td>\n",
       "      <td>0</td>\n",
       "      <td>0</td>\n",
       "      <td>0</td>\n",
       "      <td>No</td>\n",
       "    </tr>\n",
       "    <tr>\n",
       "      <th>1</th>\n",
       "      <td>5.589978e+14</td>\n",
       "      <td>5642503</td>\n",
       "      <td>M</td>\n",
       "      <td>2016-04-29T16:08:27Z</td>\n",
       "      <td>2016-04-29T00:00:00Z</td>\n",
       "      <td>56</td>\n",
       "      <td>JARDIM DA PENHA</td>\n",
       "      <td>0</td>\n",
       "      <td>0</td>\n",
       "      <td>0</td>\n",
       "      <td>0</td>\n",
       "      <td>0</td>\n",
       "      <td>0</td>\n",
       "      <td>No</td>\n",
       "    </tr>\n",
       "    <tr>\n",
       "      <th>2</th>\n",
       "      <td>4.262962e+12</td>\n",
       "      <td>5642549</td>\n",
       "      <td>F</td>\n",
       "      <td>2016-04-29T16:19:04Z</td>\n",
       "      <td>2016-04-29T00:00:00Z</td>\n",
       "      <td>62</td>\n",
       "      <td>MATA DA PRAIA</td>\n",
       "      <td>0</td>\n",
       "      <td>0</td>\n",
       "      <td>0</td>\n",
       "      <td>0</td>\n",
       "      <td>0</td>\n",
       "      <td>0</td>\n",
       "      <td>No</td>\n",
       "    </tr>\n",
       "    <tr>\n",
       "      <th>3</th>\n",
       "      <td>8.679512e+11</td>\n",
       "      <td>5642828</td>\n",
       "      <td>F</td>\n",
       "      <td>2016-04-29T17:29:31Z</td>\n",
       "      <td>2016-04-29T00:00:00Z</td>\n",
       "      <td>8</td>\n",
       "      <td>PONTAL DE CAMBURI</td>\n",
       "      <td>0</td>\n",
       "      <td>0</td>\n",
       "      <td>0</td>\n",
       "      <td>0</td>\n",
       "      <td>0</td>\n",
       "      <td>0</td>\n",
       "      <td>No</td>\n",
       "    </tr>\n",
       "    <tr>\n",
       "      <th>4</th>\n",
       "      <td>8.841186e+12</td>\n",
       "      <td>5642494</td>\n",
       "      <td>F</td>\n",
       "      <td>2016-04-29T16:07:23Z</td>\n",
       "      <td>2016-04-29T00:00:00Z</td>\n",
       "      <td>56</td>\n",
       "      <td>JARDIM DA PENHA</td>\n",
       "      <td>0</td>\n",
       "      <td>1</td>\n",
       "      <td>1</td>\n",
       "      <td>0</td>\n",
       "      <td>0</td>\n",
       "      <td>0</td>\n",
       "      <td>No</td>\n",
       "    </tr>\n",
       "  </tbody>\n",
       "</table>\n",
       "</div>"
      ],
      "text/plain": [
       "      PatientId  AppointmentID Gender          ScheduledDay  \\\n",
       "0  2.987250e+13        5642903      F  2016-04-29T18:38:08Z   \n",
       "1  5.589978e+14        5642503      M  2016-04-29T16:08:27Z   \n",
       "2  4.262962e+12        5642549      F  2016-04-29T16:19:04Z   \n",
       "3  8.679512e+11        5642828      F  2016-04-29T17:29:31Z   \n",
       "4  8.841186e+12        5642494      F  2016-04-29T16:07:23Z   \n",
       "\n",
       "         AppointmentDay  Age      Neighbourhood  Scholarship  Hipertension  \\\n",
       "0  2016-04-29T00:00:00Z   62    JARDIM DA PENHA            0             1   \n",
       "1  2016-04-29T00:00:00Z   56    JARDIM DA PENHA            0             0   \n",
       "2  2016-04-29T00:00:00Z   62      MATA DA PRAIA            0             0   \n",
       "3  2016-04-29T00:00:00Z    8  PONTAL DE CAMBURI            0             0   \n",
       "4  2016-04-29T00:00:00Z   56    JARDIM DA PENHA            0             1   \n",
       "\n",
       "   Diabetes  Alcoholism  Handcap  SMS_received No-show  \n",
       "0         0           0        0             0      No  \n",
       "1         0           0        0             0      No  \n",
       "2         0           0        0             0      No  \n",
       "3         0           0        0             0      No  \n",
       "4         1           0        0             0      No  "
      ]
     },
     "execution_count": 6,
     "metadata": {},
     "output_type": "execute_result"
    }
   ],
   "source": [
    "data = pd.read_csv('KaggleV2-May-2016.csv')\n",
    "data.head()"
   ]
  },
  {
   "cell_type": "code",
   "execution_count": 7,
   "metadata": {},
   "outputs": [
    {
     "name": "stdout",
     "output_type": "stream",
     "text": [
      "The dataset has 110527 rows and 14 features\n"
     ]
    }
   ],
   "source": [
    "print('The dataset has', data.shape[0], 'rows and', data.shape[1], 'features')"
   ]
  },
  {
   "cell_type": "code",
   "execution_count": 8,
   "metadata": {},
   "outputs": [
    {
     "name": "stdout",
     "output_type": "stream",
     "text": [
      "<class 'pandas.core.frame.DataFrame'>\n",
      "RangeIndex: 110527 entries, 0 to 110526\n",
      "Data columns (total 14 columns):\n",
      "PatientId         110527 non-null float64\n",
      "AppointmentID     110527 non-null int64\n",
      "Gender            110527 non-null object\n",
      "ScheduledDay      110527 non-null object\n",
      "AppointmentDay    110527 non-null object\n",
      "Age               110527 non-null int64\n",
      "Neighbourhood     110527 non-null object\n",
      "Scholarship       110527 non-null int64\n",
      "Hipertension      110527 non-null int64\n",
      "Diabetes          110527 non-null int64\n",
      "Alcoholism        110527 non-null int64\n",
      "Handcap           110527 non-null int64\n",
      "SMS_received      110527 non-null int64\n",
      "No-show           110527 non-null object\n",
      "dtypes: float64(1), int64(8), object(5)\n",
      "memory usage: 11.8+ MB\n"
     ]
    }
   ],
   "source": [
    "data.info()"
   ]
  },
  {
   "cell_type": "markdown",
   "metadata": {},
   "source": [
    "- Let's see if a patient is likely to miss an appointment again if he/she missed the previous one"
   ]
  },
  {
   "cell_type": "code",
   "execution_count": 9,
   "metadata": {},
   "outputs": [
    {
     "data": {
      "text/plain": [
       "0.6298313265252282"
      ]
     },
     "execution_count": 9,
     "metadata": {},
     "output_type": "execute_result"
    }
   ],
   "source": [
    "data['No-show'] = data['No-show'].replace({'No':0, 'Yes':1})\n",
    "missed_appointment = data.groupby('PatientId')['No-show'].sum()\n",
    "missed_appointment = missed_appointment.to_dict()\n",
    "data['missed_appointment_before'] = data.PatientId.map(lambda x: 1 if missed_appointment[x]>0 else 0)\n",
    "data['missed_appointment_before'].corr(data['No-show'])"
   ]
  },
  {
   "cell_type": "markdown",
   "metadata": {},
   "source": [
    "- Let's check about the Gender"
   ]
  },
  {
   "cell_type": "code",
   "execution_count": 10,
   "metadata": {},
   "outputs": [
    {
     "name": "stdout",
     "output_type": "stream",
     "text": [
      "Proportion of the dataset that are women: 64.3%\n",
      "Proportion of the dataset that are men: 35.7%\n"
     ]
    }
   ],
   "source": [
    "patients = data.drop_duplicates(subset=['PatientId'])\n",
    "n_patients = patients.shape[0]\n",
    "count = patients.Gender.value_counts()\n",
    "n_women = count.values[0]\n",
    "n_men = count.values[1]\n",
    "print('Proportion of the dataset that are women: {0:2.1f}%'.format(100*n_women/n_patients))\n",
    "print('Proportion of the dataset that are men: {0:2.1f}%'.format(100*n_men/n_patients))"
   ]
  },
  {
   "cell_type": "code",
   "execution_count": 15,
   "metadata": {},
   "outputs": [
    {
     "data": {
      "image/png": "[encoded data removed]",
      "text/plain": [
       "<Figure size 432x288 with 1 Axes>"
      ]
     },
     "metadata": {},
     "output_type": "display_data"
    }
   ],
   "source": [
    "first = 100*n_women/n_patients\n",
    "second = 100*n_men/n_patients\n",
    "\n",
    "labels = 'Men', 'Women', \n",
    "sizes = [second, first]\n",
    "explode = (0, 0.1)\n",
    "\n",
    "fig1, ax1 = plt.subplots()\n",
    "ax1.pie(sizes, explode=explode, labels=labels, autopct='%1.1f%%',\n",
    "        shadow=True, startangle=90)\n",
    "ax1.axis('equal')  \n",
    "\n",
    "plt.show()"
   ]
  },
  {
   "cell_type": "markdown",
   "metadata": {},
   "source": [
    "- Let's have two groups and see if the waiting time until the next appointment matter"
   ]
  },
  {
   "cell_type": "code",
   "execution_count": 16,
   "metadata": {},
   "outputs": [
    {
     "name": "stdout",
     "output_type": "stream",
     "text": [
      "Do not miss appointments: 79.81%\n",
      "Miss appointments: 20.19%\n"
     ]
    }
   ],
   "source": [
    "show = data[data['No-show']==0]\n",
    "no_show = data[data['No-show']==1]\n",
    "n_show = show.shape[0]\n",
    "n_no_show = no_show.shape[0]\n",
    "print('Do not miss appointments:{0: 2.2f}%'.format(100*n_show/data.shape[0]))\n",
    "print('Miss appointments:{0: 2.2f}%'.format(100*n_no_show/data.shape[0]))"
   ]
  },
  {
   "cell_type": "code",
   "execution_count": 17,
   "metadata": {},
   "outputs": [],
   "source": [
    "#Receives an integer representing the number of days until an appointment and returns the category it is in.\n",
    "def map_waiting_interval_to_days(x):\n",
    "    if x ==0 :\n",
    "        return 'Less than 15 days'\n",
    "    elif x > 0 and x <= 2:\n",
    "        return 'Between 1 day and 2 days'\n",
    "    elif x > 2 and x <= 7:\n",
    "        return 'Between 3 days and 7 days'\n",
    "    elif x > 7 and x <= 31:\n",
    "        return 'Between 7 days and 31 days'\n",
    "    else:\n",
    "        return 'More than 1 month'"
   ]
  },
  {
   "cell_type": "code",
   "execution_count": 18,
   "metadata": {},
   "outputs": [],
   "source": [
    "d = {0:'Monday',1:'Tuesday',2:'Wednesday',3:'Thursday',4:'Friday',5:'Saturday',6:'Sunday'}\n",
    "data['mapped_AppointmentDay'] = data['AppointmentDay'].map(lambda x: datetime.strptime(x,\"%Y-%m-%dT%H:%M:%SZ\"))\n",
    "data['mapped_ScheduledDay'] = data['ScheduledDay'].map(lambda x: datetime.strptime(x,\"%Y-%m-%dT%H:%M:%SZ\"))\n",
    "data['waiting_interval'] = abs(data['mapped_ScheduledDay'] - data['mapped_AppointmentDay'])\n",
    "data['waiting_interval_seconds'] = data['waiting_interval'].map(lambda x: x.seconds)\n",
    "data['waiting_interval_days'] = data['waiting_interval'].map(lambda x: x.days)\n",
    "data['waiting_interval_days'] = data['waiting_interval_days'].map(lambda x: map_waiting_interval_to_days(x))\n",
    "\n",
    "data['ScheduledDay_month'] = data['mapped_ScheduledDay'].map(lambda x: x.month)\n",
    "data['ScheduledDay_day'] = data['mapped_ScheduledDay'].map(lambda x: x.day)\n",
    "data['ScheduledDay_weekday'] = data['mapped_ScheduledDay'].map(lambda x: x.weekday())\n",
    "\n",
    "data['AppointmentDay_month'] = data['mapped_AppointmentDay'].map(lambda x: x.month)\n",
    "data['AppointmentDay_day'] = data['mapped_AppointmentDay'].map(lambda x: x.day)\n",
    "data['AppointmentDay_weekday'] = data['mapped_AppointmentDay'].map(lambda x: x.weekday())\n",
    "data['AppointmentDay_weekday'] = data['AppointmentDay_weekday'].replace(d)\n",
    "\n",
    "show = data[data['No-show']==0]\n",
    "no_show = data[data['No-show']==1]\n",
    "n_show = show.shape[0]\n",
    "n_no_show = no_show.shape[0]"
   ]
  },
  {
   "cell_type": "code",
   "execution_count": 19,
   "metadata": {},
   "outputs": [
    {
     "data": {
      "image/png": "[encoded data removed]",
      "text/plain": [
       "<Figure size 1080x432 with 2 Axes>"
      ]
     },
     "metadata": {},
     "output_type": "display_data"
    }
   ],
   "source": [
    "levels = ['Less than 15 days','Between 1 day and 2 days','Between 3 days and 7 days',\n",
    "'Between 7 days and 31 days','More than 1 month']\n",
    "\n",
    "grouped = show.groupby(by='waiting_interval_days')\n",
    "count_days1 = grouped.waiting_interval_days.count().reindex(index = levels)\n",
    "count_days1 = 100*count_days1/show.shape[0]\n",
    "\n",
    "grouped = no_show.groupby(by='waiting_interval_days')\n",
    "count_days2 = grouped.waiting_interval_days.count().reindex(index = levels)\n",
    "count_days2 = 100*count_days2/no_show.shape[0]\n",
    "\n",
    "sns.set_style(\"whitegrid\")\n",
    "f, ax = plt.subplots(1, 2,figsize=(15, 6),sharey=True)\n",
    "g1 = sns.barplot(x=count_days1.index, y=count_days1.values, \n",
    "                color='darkgreen',ax=ax[0])\n",
    "g1.set_xticklabels(levels, rotation=90);\n",
    "g1.set_xlabel('');\n",
    "g1.set_title('Show');\n",
    "g2 = sns.barplot(x=count_days2.index, y=count_days2.values, \n",
    "                color='crimson',ax=ax[1])\n",
    "g2.set_xticklabels(levels, rotation=90);\n",
    "g2.set_xlabel('');\n",
    "g2.set_title('No-Show');"
   ]
  },
  {
   "cell_type": "markdown",
   "metadata": {},
   "source": [
    "- About the Age"
   ]
  },
  {
   "cell_type": "code",
   "execution_count": 20,
   "metadata": {},
   "outputs": [
    {
     "name": "stderr",
     "output_type": "stream",
     "text": [
      "/Users/diopmouhamed/.pyenv/versions/anaconda3-2019.10/lib/python3.7/site-packages/ipykernel_launcher.py:14: SettingWithCopyWarning: \n",
      "A value is trying to be set on a copy of a slice from a DataFrame.\n",
      "Try using .loc[row_indexer,col_indexer] = value instead\n",
      "\n",
      "See the caveats in the documentation: http://pandas.pydata.org/pandas-docs/stable/indexing.html#indexing-view-versus-copy\n",
      "  \n"
     ]
    }
   ],
   "source": [
    "#Receives an integer and returns the age category that this age is in.\n",
    "def map_age(x):\n",
    "    if x < 12:\n",
    "        return 'Child'\n",
    "    elif x > 12 and x < 18:\n",
    "        return 'Teenager'\n",
    "    elif x>=20 and x<25:\n",
    "        return 'Young Adult'\n",
    "    elif x>=25 and x<60:\n",
    "        return 'Adult'\n",
    "    else:\n",
    "        return 'Senior'\n",
    "data['mapped_Age'] = data['Age'].map(lambda x: map_age(x))\n",
    "patients['mapped_Age'] = patients['Age'].map(lambda x: map_age(x))"
   ]
  },
  {
   "cell_type": "code",
   "execution_count": 21,
   "metadata": {},
   "outputs": [
    {
     "data": {
      "image/png": "[encoded data removed]",
      "text/plain": [
       "<Figure size 432x288 with 1 Axes>"
      ]
     },
     "metadata": {},
     "output_type": "display_data"
    }
   ],
   "source": [
    "ages = ['Child','Teenager','Young Adult','Adult','Senior']\n",
    "n_patients = patients.shape[0]\n",
    "grouped = patients.groupby(by='mapped_Age')\n",
    "count_ages = grouped.Age.count().reindex(index = ages)\n",
    "g = sns.barplot(x=count_ages.index, y=count_ages.values*(100/n_patients), color='darkgreen');\n",
    "g.set_title('Age percentage');\n",
    "g.set_xlabel('');"
   ]
  },
  {
   "cell_type": "code",
   "execution_count": 22,
   "metadata": {},
   "outputs": [
    {
     "data": {
      "image/png": "[encoded data removed]",
      "text/plain": [
       "<Figure size 864x288 with 2 Axes>"
      ]
     },
     "metadata": {},
     "output_type": "display_data"
    }
   ],
   "source": [
    "show = data[data['No-show']==0]\n",
    "no_show = data[data['No-show']==1]\n",
    "n_show = show.shape[0]\n",
    "n_no_show = no_show.shape[0]\n",
    "ages = ['Child','Teenager','Young Adult','Adult','Senior']\n",
    "\n",
    "# count ages for group which didnt miss appointment\n",
    "grouped = show.groupby(by='mapped_Age')\n",
    "count_ages1 = grouped.Age.count().reindex(index = ages)\n",
    "count_ages1 = count_ages1*(100/show.shape[0])\n",
    "\n",
    "# count ages for group which missed appointment\n",
    "grouped = no_show.groupby(by='mapped_Age')\n",
    "count_ages2 = grouped.Age.count().reindex(index = ages)\n",
    "count_ages2 = count_ages2*(100/no_show.shape[0])\n",
    "\n",
    "sns.set_style(\"whitegrid\")\n",
    "f, ax = plt.subplots(1, 2,figsize=(12, 4),sharey=True)\n",
    "g1 = sns.barplot(x=count_ages1.index, y=count_ages1.values, \n",
    "            color='darkgreen',ax=ax[0])\n",
    "g1.set_xlabel('');\n",
    "g1.set_title('Show');\n",
    "g2 = sns.barplot(x=count_ages2.index, y=count_ages2.values, \n",
    "            color='crimson',ax=ax[1]);\n",
    "g2.set_xlabel('');\n",
    "g2.set_title('No-Show');"
   ]
  },
  {
   "cell_type": "markdown",
   "metadata": {},
   "source": [
    "* Diseases like Hipertension, Diabetes, ..."
   ]
  },
  {
   "cell_type": "code",
   "execution_count": 26,
   "metadata": {},
   "outputs": [
    {
     "data": {
      "text/plain": [
       "Hipertension    0.196504\n",
       "Diabetes        0.070884\n",
       "Alcoholism      0.024174\n",
       "Handcap         0.020113\n",
       "dtype: float64"
      ]
     },
     "execution_count": 26,
     "metadata": {},
     "output_type": "execute_result"
    }
   ],
   "source": [
    "patients = data.drop_duplicates(subset=['PatientId'])\n",
    "patients[['Hipertension','Diabetes','Alcoholism','Handcap']].sum(axis=0)/patients.shape[0]"
   ]
  },
  {
   "cell_type": "code",
   "execution_count": 38,
   "metadata": {},
   "outputs": [
    {
     "data": {
      "image/png": "[encoded data removed]",
      "text/plain": [
       "<Figure size 432x288 with 1 Axes>"
      ]
     },
     "metadata": {},
     "output_type": "display_data"
    }
   ],
   "source": [
    "hyper = (patients['Hipertension'].sum(axis=0)/patients.shape[0])*100\n",
    "diab = (patients['Diabetes'].sum(axis=0)/patients.shape[0])*100\n",
    "alco = (patients['Alcoholism'].sum(axis=0)/patients.shape[0])*100\n",
    "handi = (patients['Handcap'].sum(axis=0)/patients.shape[0])*100\n",
    "rest = 100 - (hyper + diab + alco + handi)\n",
    "\n",
    "labels = 'Hypertension', 'Diabetes', 'Alcoholism', 'Handicap', 'NoDisease'\n",
    "sizes = [hyper, diab, alco, handi, rest]\n",
    "explode = (0, 0, 0, 0, 0.1)\n",
    "\n",
    "fig1, ax1 = plt.subplots()\n",
    "ax1.pie(sizes, explode=explode, labels=labels, autopct='%1.1f%%',\n",
    "        shadow=True, startangle=90)\n",
    "ax1.axis('equal')  \n",
    "\n",
    "plt.show()"
   ]
  },
  {
   "cell_type": "code",
   "execution_count": 39,
   "metadata": {},
   "outputs": [],
   "source": [
    "data['haveDisease'] = data.Alcoholism | data.Handcap | data.Diabetes | data.Hipertension"
   ]
  },
  {
   "cell_type": "code",
   "execution_count": 40,
   "metadata": {},
   "outputs": [
    {
     "data": {
      "text/html": [
       "<div>\n",
       "<style scoped>\n",
       "    .dataframe tbody tr th:only-of-type {\n",
       "        vertical-align: middle;\n",
       "    }\n",
       "\n",
       "    .dataframe tbody tr th {\n",
       "        vertical-align: top;\n",
       "    }\n",
       "\n",
       "    .dataframe thead th {\n",
       "        text-align: right;\n",
       "    }\n",
       "</style>\n",
       "<table border=\"1\" class=\"dataframe\">\n",
       "  <thead>\n",
       "    <tr style=\"text-align: right;\">\n",
       "      <th></th>\n",
       "      <th>PatientId</th>\n",
       "      <th>AppointmentID</th>\n",
       "      <th>Gender</th>\n",
       "      <th>ScheduledDay</th>\n",
       "      <th>AppointmentDay</th>\n",
       "      <th>Age</th>\n",
       "      <th>Neighbourhood</th>\n",
       "      <th>Scholarship</th>\n",
       "      <th>Hipertension</th>\n",
       "      <th>Diabetes</th>\n",
       "      <th>...</th>\n",
       "      <th>waiting_interval_seconds</th>\n",
       "      <th>waiting_interval_days</th>\n",
       "      <th>ScheduledDay_month</th>\n",
       "      <th>ScheduledDay_day</th>\n",
       "      <th>ScheduledDay_weekday</th>\n",
       "      <th>AppointmentDay_month</th>\n",
       "      <th>AppointmentDay_day</th>\n",
       "      <th>AppointmentDay_weekday</th>\n",
       "      <th>mapped_Age</th>\n",
       "      <th>haveDisease</th>\n",
       "    </tr>\n",
       "  </thead>\n",
       "  <tbody>\n",
       "    <tr>\n",
       "      <th>0</th>\n",
       "      <td>2.987250e+13</td>\n",
       "      <td>5642903</td>\n",
       "      <td>F</td>\n",
       "      <td>2016-04-29T18:38:08Z</td>\n",
       "      <td>2016-04-29T00:00:00Z</td>\n",
       "      <td>62</td>\n",
       "      <td>JARDIM DA PENHA</td>\n",
       "      <td>0</td>\n",
       "      <td>1</td>\n",
       "      <td>0</td>\n",
       "      <td>...</td>\n",
       "      <td>67088</td>\n",
       "      <td>Less than 15 days</td>\n",
       "      <td>4</td>\n",
       "      <td>29</td>\n",
       "      <td>4</td>\n",
       "      <td>4</td>\n",
       "      <td>29</td>\n",
       "      <td>Friday</td>\n",
       "      <td>Senior</td>\n",
       "      <td>1</td>\n",
       "    </tr>\n",
       "    <tr>\n",
       "      <th>1</th>\n",
       "      <td>5.589978e+14</td>\n",
       "      <td>5642503</td>\n",
       "      <td>M</td>\n",
       "      <td>2016-04-29T16:08:27Z</td>\n",
       "      <td>2016-04-29T00:00:00Z</td>\n",
       "      <td>56</td>\n",
       "      <td>JARDIM DA PENHA</td>\n",
       "      <td>0</td>\n",
       "      <td>0</td>\n",
       "      <td>0</td>\n",
       "      <td>...</td>\n",
       "      <td>58107</td>\n",
       "      <td>Less than 15 days</td>\n",
       "      <td>4</td>\n",
       "      <td>29</td>\n",
       "      <td>4</td>\n",
       "      <td>4</td>\n",
       "      <td>29</td>\n",
       "      <td>Friday</td>\n",
       "      <td>Adult</td>\n",
       "      <td>0</td>\n",
       "    </tr>\n",
       "    <tr>\n",
       "      <th>2</th>\n",
       "      <td>4.262962e+12</td>\n",
       "      <td>5642549</td>\n",
       "      <td>F</td>\n",
       "      <td>2016-04-29T16:19:04Z</td>\n",
       "      <td>2016-04-29T00:00:00Z</td>\n",
       "      <td>62</td>\n",
       "      <td>MATA DA PRAIA</td>\n",
       "      <td>0</td>\n",
       "      <td>0</td>\n",
       "      <td>0</td>\n",
       "      <td>...</td>\n",
       "      <td>58744</td>\n",
       "      <td>Less than 15 days</td>\n",
       "      <td>4</td>\n",
       "      <td>29</td>\n",
       "      <td>4</td>\n",
       "      <td>4</td>\n",
       "      <td>29</td>\n",
       "      <td>Friday</td>\n",
       "      <td>Senior</td>\n",
       "      <td>0</td>\n",
       "    </tr>\n",
       "    <tr>\n",
       "      <th>3</th>\n",
       "      <td>8.679512e+11</td>\n",
       "      <td>5642828</td>\n",
       "      <td>F</td>\n",
       "      <td>2016-04-29T17:29:31Z</td>\n",
       "      <td>2016-04-29T00:00:00Z</td>\n",
       "      <td>8</td>\n",
       "      <td>PONTAL DE CAMBURI</td>\n",
       "      <td>0</td>\n",
       "      <td>0</td>\n",
       "      <td>0</td>\n",
       "      <td>...</td>\n",
       "      <td>62971</td>\n",
       "      <td>Less than 15 days</td>\n",
       "      <td>4</td>\n",
       "      <td>29</td>\n",
       "      <td>4</td>\n",
       "      <td>4</td>\n",
       "      <td>29</td>\n",
       "      <td>Friday</td>\n",
       "      <td>Child</td>\n",
       "      <td>0</td>\n",
       "    </tr>\n",
       "    <tr>\n",
       "      <th>4</th>\n",
       "      <td>8.841186e+12</td>\n",
       "      <td>5642494</td>\n",
       "      <td>F</td>\n",
       "      <td>2016-04-29T16:07:23Z</td>\n",
       "      <td>2016-04-29T00:00:00Z</td>\n",
       "      <td>56</td>\n",
       "      <td>JARDIM DA PENHA</td>\n",
       "      <td>0</td>\n",
       "      <td>1</td>\n",
       "      <td>1</td>\n",
       "      <td>...</td>\n",
       "      <td>58043</td>\n",
       "      <td>Less than 15 days</td>\n",
       "      <td>4</td>\n",
       "      <td>29</td>\n",
       "      <td>4</td>\n",
       "      <td>4</td>\n",
       "      <td>29</td>\n",
       "      <td>Friday</td>\n",
       "      <td>Adult</td>\n",
       "      <td>1</td>\n",
       "    </tr>\n",
       "  </tbody>\n",
       "</table>\n",
       "<p>5 rows × 28 columns</p>\n",
       "</div>"
      ],
      "text/plain": [
       "      PatientId  AppointmentID Gender          ScheduledDay  \\\n",
       "0  2.987250e+13        5642903      F  2016-04-29T18:38:08Z   \n",
       "1  5.589978e+14        5642503      M  2016-04-29T16:08:27Z   \n",
       "2  4.262962e+12        5642549      F  2016-04-29T16:19:04Z   \n",
       "3  8.679512e+11        5642828      F  2016-04-29T17:29:31Z   \n",
       "4  8.841186e+12        5642494      F  2016-04-29T16:07:23Z   \n",
       "\n",
       "         AppointmentDay  Age      Neighbourhood  Scholarship  Hipertension  \\\n",
       "0  2016-04-29T00:00:00Z   62    JARDIM DA PENHA            0             1   \n",
       "1  2016-04-29T00:00:00Z   56    JARDIM DA PENHA            0             0   \n",
       "2  2016-04-29T00:00:00Z   62      MATA DA PRAIA            0             0   \n",
       "3  2016-04-29T00:00:00Z    8  PONTAL DE CAMBURI            0             0   \n",
       "4  2016-04-29T00:00:00Z   56    JARDIM DA PENHA            0             1   \n",
       "\n",
       "   Diabetes  ...  waiting_interval_seconds  waiting_interval_days  \\\n",
       "0         0  ...                     67088      Less than 15 days   \n",
       "1         0  ...                     58107      Less than 15 days   \n",
       "2         0  ...                     58744      Less than 15 days   \n",
       "3         0  ...                     62971      Less than 15 days   \n",
       "4         1  ...                     58043      Less than 15 days   \n",
       "\n",
       "   ScheduledDay_month  ScheduledDay_day  ScheduledDay_weekday  \\\n",
       "0                   4                29                     4   \n",
       "1                   4                29                     4   \n",
       "2                   4                29                     4   \n",
       "3                   4                29                     4   \n",
       "4                   4                29                     4   \n",
       "\n",
       "  AppointmentDay_month AppointmentDay_day AppointmentDay_weekday  mapped_Age  \\\n",
       "0                    4                 29                 Friday      Senior   \n",
       "1                    4                 29                 Friday       Adult   \n",
       "2                    4                 29                 Friday      Senior   \n",
       "3                    4                 29                 Friday       Child   \n",
       "4                    4                 29                 Friday       Adult   \n",
       "\n",
       "  haveDisease  \n",
       "0           1  \n",
       "1           0  \n",
       "2           0  \n",
       "3           0  \n",
       "4           1  \n",
       "\n",
       "[5 rows x 28 columns]"
      ]
     },
     "execution_count": 40,
     "metadata": {},
     "output_type": "execute_result"
    }
   ],
   "source": [
    "data.head()"
   ]
  },
  {
   "cell_type": "code",
   "execution_count": 16,
   "metadata": {},
   "outputs": [
    {
     "data": {
      "image/png": "[encoded data removed]",
      "text/plain": [
       "<Figure size 1080x720 with 2 Axes>"
      ]
     },
     "metadata": {},
     "output_type": "display_data"
    }
   ],
   "source": [
    "fig, ax = plt.subplots(figsize=[15,10])\n",
    "#data = data.drop(columns=['AppointmentID', 'PatientId'])\n",
    "cor=data.corr()\n",
    "mask = np.zeros_like(cor)\n",
    "mask[np.triu_indices_from(mask)] = True\n",
    "ax = sns.heatmap(cor, xticklabels=cor.columns, yticklabels=cor.columns, \n",
    "            annot=True, mask=mask);"
   ]
  },
  {
   "cell_type": "markdown",
   "metadata": {},
   "source": [
    "## Data Prepapration"
   ]
  },
  {
   "cell_type": "code",
   "execution_count": 17,
   "metadata": {},
   "outputs": [
    {
     "data": {
      "text/plain": [
       "False"
      ]
     },
     "execution_count": 17,
     "metadata": {},
     "output_type": "execute_result"
    }
   ],
   "source": [
    "data.isnull().sum().any()"
   ]
  },
  {
   "cell_type": "markdown",
   "metadata": {},
   "source": [
    "**There is no missing values**"
   ]
  },
  {
   "cell_type": "code",
   "execution_count": 18,
   "metadata": {},
   "outputs": [],
   "source": [
    "#Receives the dataset, clean data and engineer new features. \n",
    "#Return cleaned dataset with features that will be used for training model.\n",
    "def process_data(data):\n",
    "    d = {0:'Monday',1:'Tuesday',2:'Wednesday',3:'Thursday',4:'Friday',5:'Saturday',6:'Sunday'}\n",
    "    data['mapped_AppointmentDay'] = data['AppointmentDay'].map(lambda x: datetime.strptime(x,\"%Y-%m-%dT%H:%M:%SZ\"))\n",
    "    data['mapped_ScheduledDay'] = data['ScheduledDay'].map(lambda x: datetime.strptime(x,\"%Y-%m-%dT%H:%M:%SZ\"))\n",
    "    data['waiting_interval'] = abs(data['mapped_ScheduledDay'] - data['mapped_AppointmentDay'])\n",
    "    data['waiting_interval_days'] = data['waiting_interval'].map(lambda x: x.days)\n",
    "    data['waiting_interval_days'] = data['waiting_interval_days'].map(lambda x: map_waiting_interval_to_days(x))\n",
    "    \n",
    "    data['ScheduledDay_month'] = data['mapped_ScheduledDay'].map(lambda x: x.month)\n",
    "    data['ScheduledDay_day'] = data['mapped_ScheduledDay'].map(lambda x: x.day)\n",
    "    data['ScheduledDay_weekday'] = data['mapped_ScheduledDay'].map(lambda x: x.weekday())\n",
    "    data['ScheduledDay_weekday'] = data['ScheduledDay_weekday'].replace(d)\n",
    "\n",
    "    data['AppointmentDay_month'] = data['mapped_AppointmentDay'].map(lambda x: x.month)\n",
    "    data['AppointmentDay_day'] = data['mapped_AppointmentDay'].map(lambda x: x.day)\n",
    "    data['AppointmentDay_weekday'] = data['mapped_AppointmentDay'].map(lambda x: x.weekday())\n",
    "    data['AppointmentDay_weekday'] = data['AppointmentDay_weekday'].replace(d)\n",
    "    \n",
    "    data['No-show'] = data['No-show'].replace({'Yes':1, 'No':0})\n",
    "   \n",
    "    missed_appointment = data.groupby('PatientId')['No-show'].sum()\n",
    "    missed_appointment = missed_appointment.to_dict()\n",
    "    data['missed_appointment_before'] = data.PatientId.map(lambda x: 1 if missed_appointment[x]>0 else 0)\n",
    "    data['mapped_Age'] = data['Age'].map(lambda x: map_age(x))\n",
    "    data['Gender'] = data['Gender'].replace({'F':0, 'M':1})\n",
    "    data['haveDisease'] = data.Alcoholism | data.Handcap | data.Diabetes | data.Hipertension\n",
    "\n",
    "    data = data.drop(columns=['waiting_interval', 'AppointmentDay', 'ScheduledDay',\n",
    "                             'PatientId','Age', 'mapped_ScheduledDay',\n",
    "                             'mapped_AppointmentDay', 'AppointmentID', \n",
    "                              'Alcoholism','Handcap','Diabetes','Hipertension'])\n",
    "    \n",
    "    return data"
   ]
  },
  {
   "cell_type": "code",
   "execution_count": 19,
   "metadata": {},
   "outputs": [],
   "source": [
    "def one_hot_encode(data):\n",
    "    return pd.get_dummies(data)"
   ]
  },
  {
   "cell_type": "code",
   "execution_count": 20,
   "metadata": {},
   "outputs": [
    {
     "data": {
      "text/html": [
       "<div>\n",
       "<style scoped>\n",
       "    .dataframe tbody tr th:only-of-type {\n",
       "        vertical-align: middle;\n",
       "    }\n",
       "\n",
       "    .dataframe tbody tr th {\n",
       "        vertical-align: top;\n",
       "    }\n",
       "\n",
       "    .dataframe thead th {\n",
       "        text-align: right;\n",
       "    }\n",
       "</style>\n",
       "<table border=\"1\" class=\"dataframe\">\n",
       "  <thead>\n",
       "    <tr style=\"text-align: right;\">\n",
       "      <th></th>\n",
       "      <th>Gender</th>\n",
       "      <th>Neighbourhood</th>\n",
       "      <th>Scholarship</th>\n",
       "      <th>SMS_received</th>\n",
       "      <th>No-show</th>\n",
       "      <th>waiting_interval_days</th>\n",
       "      <th>ScheduledDay_month</th>\n",
       "      <th>ScheduledDay_day</th>\n",
       "      <th>ScheduledDay_weekday</th>\n",
       "      <th>AppointmentDay_month</th>\n",
       "      <th>AppointmentDay_day</th>\n",
       "      <th>AppointmentDay_weekday</th>\n",
       "      <th>missed_appointment_before</th>\n",
       "      <th>mapped_Age</th>\n",
       "      <th>haveDisease</th>\n",
       "    </tr>\n",
       "  </thead>\n",
       "  <tbody>\n",
       "    <tr>\n",
       "      <th>0</th>\n",
       "      <td>0</td>\n",
       "      <td>JARDIM DA PENHA</td>\n",
       "      <td>0</td>\n",
       "      <td>0</td>\n",
       "      <td>0</td>\n",
       "      <td>Less than 15 days</td>\n",
       "      <td>4</td>\n",
       "      <td>29</td>\n",
       "      <td>Friday</td>\n",
       "      <td>4</td>\n",
       "      <td>29</td>\n",
       "      <td>Friday</td>\n",
       "      <td>0</td>\n",
       "      <td>Senior</td>\n",
       "      <td>1</td>\n",
       "    </tr>\n",
       "    <tr>\n",
       "      <th>1</th>\n",
       "      <td>1</td>\n",
       "      <td>JARDIM DA PENHA</td>\n",
       "      <td>0</td>\n",
       "      <td>0</td>\n",
       "      <td>0</td>\n",
       "      <td>Less than 15 days</td>\n",
       "      <td>4</td>\n",
       "      <td>29</td>\n",
       "      <td>Friday</td>\n",
       "      <td>4</td>\n",
       "      <td>29</td>\n",
       "      <td>Friday</td>\n",
       "      <td>0</td>\n",
       "      <td>Adult</td>\n",
       "      <td>0</td>\n",
       "    </tr>\n",
       "    <tr>\n",
       "      <th>2</th>\n",
       "      <td>0</td>\n",
       "      <td>MATA DA PRAIA</td>\n",
       "      <td>0</td>\n",
       "      <td>0</td>\n",
       "      <td>0</td>\n",
       "      <td>Less than 15 days</td>\n",
       "      <td>4</td>\n",
       "      <td>29</td>\n",
       "      <td>Friday</td>\n",
       "      <td>4</td>\n",
       "      <td>29</td>\n",
       "      <td>Friday</td>\n",
       "      <td>0</td>\n",
       "      <td>Senior</td>\n",
       "      <td>0</td>\n",
       "    </tr>\n",
       "    <tr>\n",
       "      <th>3</th>\n",
       "      <td>0</td>\n",
       "      <td>PONTAL DE CAMBURI</td>\n",
       "      <td>0</td>\n",
       "      <td>0</td>\n",
       "      <td>0</td>\n",
       "      <td>Less than 15 days</td>\n",
       "      <td>4</td>\n",
       "      <td>29</td>\n",
       "      <td>Friday</td>\n",
       "      <td>4</td>\n",
       "      <td>29</td>\n",
       "      <td>Friday</td>\n",
       "      <td>1</td>\n",
       "      <td>Child</td>\n",
       "      <td>0</td>\n",
       "    </tr>\n",
       "    <tr>\n",
       "      <th>4</th>\n",
       "      <td>0</td>\n",
       "      <td>JARDIM DA PENHA</td>\n",
       "      <td>0</td>\n",
       "      <td>0</td>\n",
       "      <td>0</td>\n",
       "      <td>Less than 15 days</td>\n",
       "      <td>4</td>\n",
       "      <td>29</td>\n",
       "      <td>Friday</td>\n",
       "      <td>4</td>\n",
       "      <td>29</td>\n",
       "      <td>Friday</td>\n",
       "      <td>0</td>\n",
       "      <td>Adult</td>\n",
       "      <td>1</td>\n",
       "    </tr>\n",
       "  </tbody>\n",
       "</table>\n",
       "</div>"
      ],
      "text/plain": [
       "   Gender      Neighbourhood  Scholarship  SMS_received  No-show  \\\n",
       "0       0    JARDIM DA PENHA            0             0        0   \n",
       "1       1    JARDIM DA PENHA            0             0        0   \n",
       "2       0      MATA DA PRAIA            0             0        0   \n",
       "3       0  PONTAL DE CAMBURI            0             0        0   \n",
       "4       0    JARDIM DA PENHA            0             0        0   \n",
       "\n",
       "  waiting_interval_days  ScheduledDay_month  ScheduledDay_day  \\\n",
       "0     Less than 15 days                   4                29   \n",
       "1     Less than 15 days                   4                29   \n",
       "2     Less than 15 days                   4                29   \n",
       "3     Less than 15 days                   4                29   \n",
       "4     Less than 15 days                   4                29   \n",
       "\n",
       "  ScheduledDay_weekday  AppointmentDay_month  AppointmentDay_day  \\\n",
       "0               Friday                     4                  29   \n",
       "1               Friday                     4                  29   \n",
       "2               Friday                     4                  29   \n",
       "3               Friday                     4                  29   \n",
       "4               Friday                     4                  29   \n",
       "\n",
       "  AppointmentDay_weekday  missed_appointment_before mapped_Age  haveDisease  \n",
       "0                 Friday                          0     Senior            1  \n",
       "1                 Friday                          0      Adult            0  \n",
       "2                 Friday                          0     Senior            0  \n",
       "3                 Friday                          1      Child            0  \n",
       "4                 Friday                          0      Adult            1  "
      ]
     },
     "execution_count": 20,
     "metadata": {},
     "output_type": "execute_result"
    }
   ],
   "source": [
    "data = pd.read_csv('KaggleV2-May-2016.csv')\n",
    "processed_data = process_data(data)\n",
    "processed_data.head()"
   ]
  },
  {
   "cell_type": "code",
   "execution_count": 21,
   "metadata": {},
   "outputs": [
    {
     "data": {
      "text/html": [
       "<div>\n",
       "<style scoped>\n",
       "    .dataframe tbody tr th:only-of-type {\n",
       "        vertical-align: middle;\n",
       "    }\n",
       "\n",
       "    .dataframe tbody tr th {\n",
       "        vertical-align: top;\n",
       "    }\n",
       "\n",
       "    .dataframe thead th {\n",
       "        text-align: right;\n",
       "    }\n",
       "</style>\n",
       "<table border=\"1\" class=\"dataframe\">\n",
       "  <thead>\n",
       "    <tr style=\"text-align: right;\">\n",
       "      <th></th>\n",
       "      <th>Gender</th>\n",
       "      <th>Scholarship</th>\n",
       "      <th>SMS_received</th>\n",
       "      <th>No-show</th>\n",
       "      <th>ScheduledDay_month</th>\n",
       "      <th>ScheduledDay_day</th>\n",
       "      <th>AppointmentDay_month</th>\n",
       "      <th>AppointmentDay_day</th>\n",
       "      <th>missed_appointment_before</th>\n",
       "      <th>haveDisease</th>\n",
       "      <th>...</th>\n",
       "      <th>AppointmentDay_weekday_Monday</th>\n",
       "      <th>AppointmentDay_weekday_Saturday</th>\n",
       "      <th>AppointmentDay_weekday_Thursday</th>\n",
       "      <th>AppointmentDay_weekday_Tuesday</th>\n",
       "      <th>AppointmentDay_weekday_Wednesday</th>\n",
       "      <th>mapped_Age_Adult</th>\n",
       "      <th>mapped_Age_Child</th>\n",
       "      <th>mapped_Age_Senior</th>\n",
       "      <th>mapped_Age_Teenager</th>\n",
       "      <th>mapped_Age_Young Adult</th>\n",
       "    </tr>\n",
       "  </thead>\n",
       "  <tbody>\n",
       "    <tr>\n",
       "      <th>0</th>\n",
       "      <td>0</td>\n",
       "      <td>0</td>\n",
       "      <td>0</td>\n",
       "      <td>0</td>\n",
       "      <td>4</td>\n",
       "      <td>29</td>\n",
       "      <td>4</td>\n",
       "      <td>29</td>\n",
       "      <td>0</td>\n",
       "      <td>1</td>\n",
       "      <td>...</td>\n",
       "      <td>0</td>\n",
       "      <td>0</td>\n",
       "      <td>0</td>\n",
       "      <td>0</td>\n",
       "      <td>0</td>\n",
       "      <td>0</td>\n",
       "      <td>0</td>\n",
       "      <td>1</td>\n",
       "      <td>0</td>\n",
       "      <td>0</td>\n",
       "    </tr>\n",
       "    <tr>\n",
       "      <th>1</th>\n",
       "      <td>1</td>\n",
       "      <td>0</td>\n",
       "      <td>0</td>\n",
       "      <td>0</td>\n",
       "      <td>4</td>\n",
       "      <td>29</td>\n",
       "      <td>4</td>\n",
       "      <td>29</td>\n",
       "      <td>0</td>\n",
       "      <td>0</td>\n",
       "      <td>...</td>\n",
       "      <td>0</td>\n",
       "      <td>0</td>\n",
       "      <td>0</td>\n",
       "      <td>0</td>\n",
       "      <td>0</td>\n",
       "      <td>1</td>\n",
       "      <td>0</td>\n",
       "      <td>0</td>\n",
       "      <td>0</td>\n",
       "      <td>0</td>\n",
       "    </tr>\n",
       "    <tr>\n",
       "      <th>2</th>\n",
       "      <td>0</td>\n",
       "      <td>0</td>\n",
       "      <td>0</td>\n",
       "      <td>0</td>\n",
       "      <td>4</td>\n",
       "      <td>29</td>\n",
       "      <td>4</td>\n",
       "      <td>29</td>\n",
       "      <td>0</td>\n",
       "      <td>0</td>\n",
       "      <td>...</td>\n",
       "      <td>0</td>\n",
       "      <td>0</td>\n",
       "      <td>0</td>\n",
       "      <td>0</td>\n",
       "      <td>0</td>\n",
       "      <td>0</td>\n",
       "      <td>0</td>\n",
       "      <td>1</td>\n",
       "      <td>0</td>\n",
       "      <td>0</td>\n",
       "    </tr>\n",
       "    <tr>\n",
       "      <th>3</th>\n",
       "      <td>0</td>\n",
       "      <td>0</td>\n",
       "      <td>0</td>\n",
       "      <td>0</td>\n",
       "      <td>4</td>\n",
       "      <td>29</td>\n",
       "      <td>4</td>\n",
       "      <td>29</td>\n",
       "      <td>1</td>\n",
       "      <td>0</td>\n",
       "      <td>...</td>\n",
       "      <td>0</td>\n",
       "      <td>0</td>\n",
       "      <td>0</td>\n",
       "      <td>0</td>\n",
       "      <td>0</td>\n",
       "      <td>0</td>\n",
       "      <td>1</td>\n",
       "      <td>0</td>\n",
       "      <td>0</td>\n",
       "      <td>0</td>\n",
       "    </tr>\n",
       "    <tr>\n",
       "      <th>4</th>\n",
       "      <td>0</td>\n",
       "      <td>0</td>\n",
       "      <td>0</td>\n",
       "      <td>0</td>\n",
       "      <td>4</td>\n",
       "      <td>29</td>\n",
       "      <td>4</td>\n",
       "      <td>29</td>\n",
       "      <td>0</td>\n",
       "      <td>1</td>\n",
       "      <td>...</td>\n",
       "      <td>0</td>\n",
       "      <td>0</td>\n",
       "      <td>0</td>\n",
       "      <td>0</td>\n",
       "      <td>0</td>\n",
       "      <td>1</td>\n",
       "      <td>0</td>\n",
       "      <td>0</td>\n",
       "      <td>0</td>\n",
       "      <td>0</td>\n",
       "    </tr>\n",
       "  </tbody>\n",
       "</table>\n",
       "<p>5 rows × 113 columns</p>\n",
       "</div>"
      ],
      "text/plain": [
       "   Gender  Scholarship  SMS_received  No-show  ScheduledDay_month  \\\n",
       "0       0            0             0        0                   4   \n",
       "1       1            0             0        0                   4   \n",
       "2       0            0             0        0                   4   \n",
       "3       0            0             0        0                   4   \n",
       "4       0            0             0        0                   4   \n",
       "\n",
       "   ScheduledDay_day  AppointmentDay_month  AppointmentDay_day  \\\n",
       "0                29                     4                  29   \n",
       "1                29                     4                  29   \n",
       "2                29                     4                  29   \n",
       "3                29                     4                  29   \n",
       "4                29                     4                  29   \n",
       "\n",
       "   missed_appointment_before  haveDisease  ...  AppointmentDay_weekday_Monday  \\\n",
       "0                          0            1  ...                              0   \n",
       "1                          0            0  ...                              0   \n",
       "2                          0            0  ...                              0   \n",
       "3                          1            0  ...                              0   \n",
       "4                          0            1  ...                              0   \n",
       "\n",
       "   AppointmentDay_weekday_Saturday  AppointmentDay_weekday_Thursday  \\\n",
       "0                                0                                0   \n",
       "1                                0                                0   \n",
       "2                                0                                0   \n",
       "3                                0                                0   \n",
       "4                                0                                0   \n",
       "\n",
       "   AppointmentDay_weekday_Tuesday  AppointmentDay_weekday_Wednesday  \\\n",
       "0                               0                                 0   \n",
       "1                               0                                 0   \n",
       "2                               0                                 0   \n",
       "3                               0                                 0   \n",
       "4                               0                                 0   \n",
       "\n",
       "   mapped_Age_Adult  mapped_Age_Child  mapped_Age_Senior  mapped_Age_Teenager  \\\n",
       "0                 0                 0                  1                    0   \n",
       "1                 1                 0                  0                    0   \n",
       "2                 0                 0                  1                    0   \n",
       "3                 0                 1                  0                    0   \n",
       "4                 1                 0                  0                    0   \n",
       "\n",
       "   mapped_Age_Young Adult  \n",
       "0                       0  \n",
       "1                       0  \n",
       "2                       0  \n",
       "3                       0  \n",
       "4                       0  \n",
       "\n",
       "[5 rows x 113 columns]"
      ]
     },
     "execution_count": 21,
     "metadata": {},
     "output_type": "execute_result"
    }
   ],
   "source": [
    "encoded_data = one_hot_encode(processed_data)\n",
    "encoded_data.head()"
   ]
  },
  {
   "cell_type": "markdown",
   "metadata": {},
   "source": [
    "## Model"
   ]
  },
  {
   "cell_type": "code",
   "execution_count": 22,
   "metadata": {},
   "outputs": [
    {
     "name": "stdout",
     "output_type": "stream",
     "text": [
      "Accuracy: 79.81%\n"
     ]
    }
   ],
   "source": [
    "print('Accuracy: {:2.2f}%'.format(100 - (100*encoded_data['No-show'].sum()/encoded_data.shape[0])))"
   ]
  },
  {
   "cell_type": "code",
   "execution_count": 23,
   "metadata": {},
   "outputs": [
    {
     "data": {
      "text/plain": [
       "(88208, 0, 22319, 0)"
      ]
     },
     "execution_count": 23,
     "metadata": {},
     "output_type": "execute_result"
    }
   ],
   "source": [
    "# row: true label ; columns: predictions\n",
    "tn, fp, fn, tp = confusion_matrix(encoded_data['No-show'], np.zeros(encoded_data.shape[0])).ravel()\n",
    "(tn, fp, fn, tp)"
   ]
  },
  {
   "cell_type": "markdown",
   "metadata": {},
   "source": [
    "We tried to predict class with majority (No-show==0) for all cases. The Naive Predictor gives almost 80 percent but it does not classify correctly any of out positivies entries. The 22319 false negatives (this model have poor recall). We want to retrieve individues that will miss the appointment (our True Positives) and also avoid classify persons that will show up as a no-show. We need a metric that takes precision and recall into consideration, therefore F1 score seems a good choice."
   ]
  },
  {
   "cell_type": "code",
   "execution_count": 24,
   "metadata": {},
   "outputs": [],
   "source": [
    "X = encoded_data.drop(columns='No-show')\n",
    "y = encoded_data['No-show']\n",
    "scaler = MinMaxScaler()\n",
    "X_std = scaler.fit_transform(X)"
   ]
  },
  {
   "cell_type": "code",
   "execution_count": 25,
   "metadata": {},
   "outputs": [
    {
     "name": "stdout",
     "output_type": "stream",
     "text": [
      "Train size:(77368, 112)\n",
      "Test size:(33159, 112)\n"
     ]
    }
   ],
   "source": [
    "X_train, X_test, y_train, y_test = train_test_split(X_std, y, test_size=0.30, random_state=42)\n",
    "\n",
    "print('Train size:{}'.format(X_train.shape))\n",
    "print('Test size:{}'.format(X_test.shape))"
   ]
  },
  {
   "cell_type": "markdown",
   "metadata": {},
   "source": [
    "**1. Random Forest Classifier**"
   ]
  },
  {
   "cell_type": "code",
   "execution_count": 26,
   "metadata": {},
   "outputs": [
    {
     "name": "stderr",
     "output_type": "stream",
     "text": [
      "/Users/diopmouhamed/.pyenv/versions/anaconda3-2019.10/lib/python3.7/site-packages/sklearn/ensemble/forest.py:245: FutureWarning: The default value of n_estimators will change from 10 in version 0.20 to 100 in 0.22.\n",
      "  \"10 in version 0.20 to 100 in 0.22.\", FutureWarning)\n"
     ]
    }
   ],
   "source": [
    "clf1 = RandomForestClassifier(random_state = 0)\n",
    "clf1.fit(X_train, y_train)\n",
    "y_preds = clf1.predict(X_test)"
   ]
  },
  {
   "cell_type": "code",
   "execution_count": 27,
   "metadata": {},
   "outputs": [
    {
     "name": "stdout",
     "output_type": "stream",
     "text": [
      "Random Forest - Accuracy: 86.36%\n",
      "Random Forest - Precision score: 66.72%\n",
      "Random Forest - Recall score: 63.45%\n",
      "Random Forest - F1-score: 65.04%\n"
     ]
    }
   ],
   "source": [
    "print('Random Forest - Accuracy: {:2.2f}%'.format(accuracy_score(y_test, y_preds) * 100))\n",
    "print('Random Forest - Precision score: {:2.2f}%'.format(precision_score(y_test, y_preds)*100))\n",
    "print('Random Forest - Recall score: {:2.2f}%'.format(recall_score(y_test, y_preds)*100))\n",
    "print('Random Forest - F1-score: {:2.2f}%'.format(f1_score(y_test, y_preds) * 100))"
   ]
  },
  {
   "cell_type": "code",
   "execution_count": 28,
   "metadata": {},
   "outputs": [
    {
     "data": {
      "text/plain": [
       "array([[24426,  2099],\n",
       "       [ 2425,  4209]])"
      ]
     },
     "execution_count": 28,
     "metadata": {},
     "output_type": "execute_result"
    }
   ],
   "source": [
    "tn, fp, fn, tp = confusion_matrix(y_test, y_preds).ravel()\n",
    "confusion_matrix(y_test, y_preds)"
   ]
  },
  {
   "cell_type": "markdown",
   "metadata": {},
   "source": [
    "The accuracy is 86%, which is small improvement from the 79.81% of the naive classifier (predict 0 for every entry). Since accuracy can be misleading, so we take a look in other models\n",
    "The F1-score is at 65%, which is low. Lets try a model more robust to class imbalance."
   ]
  },
  {
   "cell_type": "markdown",
   "metadata": {},
   "source": [
    "**2. Gradient Boosting Classifier**"
   ]
  },
  {
   "cell_type": "code",
   "execution_count": 29,
   "metadata": {},
   "outputs": [
    {
     "name": "stdout",
     "output_type": "stream",
     "text": [
      "Gradient Boosting - Accuracy: 87.32%\n",
      "Gradient Boosting - Precision score: 63.78%\n",
      "Gradient Boosting - Recall score: 84.68%\n",
      "Gradient Boosting - F1-score: 72.76%\n"
     ]
    }
   ],
   "source": [
    "clf1 = GradientBoostingClassifier(random_state = 0)\n",
    "clf1.fit(X_train, y_train)\n",
    "y_preds = clf1.predict(X_test)\n",
    "print('Gradient Boosting - Accuracy: {:2.2f}%'.format(accuracy_score(y_test, y_preds) * 100))\n",
    "print('Gradient Boosting - Precision score: {:2.2f}%'.format(precision_score(y_test, y_preds)*100))\n",
    "print('Gradient Boosting - Recall score: {:2.2f}%'.format(recall_score(y_test, y_preds)*100))\n",
    "print('Gradient Boosting - F1-score: {:2.2f}%'.format(f1_score(y_test, y_preds) * 100))"
   ]
  },
  {
   "cell_type": "code",
   "execution_count": 41,
   "metadata": {},
   "outputs": [
    {
     "data": {
      "text/plain": [
       "array([[23335,  3190],\n",
       "       [ 1016,  5618]])"
      ]
     },
     "execution_count": 41,
     "metadata": {},
     "output_type": "execute_result"
    }
   ],
   "source": [
    "tn, fp, fn, tp = confusion_matrix(y_test, y_preds).ravel()\n",
    "confusion_matrix(y_test, y_preds)"
   ]
  },
  {
   "cell_type": "markdown",
   "metadata": {},
   "source": [
    "The accuracy got improved again through the Gradient Boosting and the F1-score for this model is at 72% which was an improve from the previous model.\n",
    "In the next section we will try some approaches to deal with the imbalance of the dataset and see if we can improve this."
   ]
  },
  {
   "cell_type": "markdown",
   "metadata": {},
   "source": [
    "**We will try the approach in [here](https://developers.google.com/machine-learning/data-prep/construct/sampling-splitting/imbalanced-data) to deal with the imbalance data**"
   ]
  },
  {
   "cell_type": "code",
   "execution_count": 43,
   "metadata": {},
   "outputs": [
    {
     "name": "stdout",
     "output_type": "stream",
     "text": [
      "(110527, 15)\n",
      "(110527, 113)\n",
      "Proportion of minority class: 20.19%\n",
      "Proportion of majority class: 79.81%\n"
     ]
    }
   ],
   "source": [
    "print(processed_data.shape)\n",
    "print(encoded_data.shape)\n",
    "show = data[data['No-show']==0]\n",
    "no_show = data[data['No-show']==1]\n",
    "n_show = show.shape[0]\n",
    "n_no_show = no_show.shape[0]\n",
    "print('Proportion of minority class: {:2.2f}%'.format(100*no_show.shape[0]/data.shape[0]))\n",
    "print('Proportion of majority class: {:2.2f}%'.format(100*show.shape[0]/data.shape[0]))"
   ]
  },
  {
   "cell_type": "code",
   "execution_count": 44,
   "metadata": {},
   "outputs": [
    {
     "data": {
      "text/plain": [
       "0.25302693633230544"
      ]
     },
     "execution_count": 44,
     "metadata": {},
     "output_type": "execute_result"
    }
   ],
   "source": [
    "no_show.shape[0]/show.shape[0] # 1 positive no-show for 4 negatives no-show"
   ]
  },
  {
   "cell_type": "markdown",
   "metadata": {},
   "source": [
    "This mean that for each sample with no-show==1 there is 4 samples with no-show==0. The downsampling factor of 4 is used, then after downsampling the classes proportion will be almost the same."
   ]
  },
  {
   "cell_type": "code",
   "execution_count": 45,
   "metadata": {},
   "outputs": [
    {
     "data": {
      "text/plain": [
       "22052"
      ]
     },
     "execution_count": 45,
     "metadata": {},
     "output_type": "execute_result"
    }
   ],
   "source": [
    "# Calculates how many samples we resample from the majority class\n",
    "downsampling_factor = 4\n",
    "n_samples = round(show.shape[0]/downsampling_factor)\n",
    "n_samples"
   ]
  },
  {
   "cell_type": "code",
   "execution_count": 46,
   "metadata": {},
   "outputs": [
    {
     "name": "stdout",
     "output_type": "stream",
     "text": [
      "Proportion of minority class after downsampling: 50.30%\n",
      "Proportion of majority class after downsampling: 49.70%\n"
     ]
    }
   ],
   "source": [
    "# separate classes\n",
    "df_majority = encoded_data[encoded_data['No-show']==0]\n",
    "df_minority = encoded_data[encoded_data['No-show']==1]\n",
    " \n",
    "# downsample without replacement majority class\n",
    "df_majority_downsampled = resample(df_majority, replace=False, n_samples=n_samples, random_state=0)  \n",
    " \n",
    "# save the index to use when perform the upweight of the samples\n",
    "resampled_index = df_majority_downsampled.index\n",
    "\n",
    "# combine minority class with downsampled majority class\n",
    "df_downsampled = pd.concat([df_majority_downsampled, df_minority])\n",
    "\n",
    "# shuffle dataframe\n",
    "df_downsampled = shuffle(df_downsampled)\n",
    "\n",
    "# take a look into proportion after resampling\n",
    "df_majority = df_downsampled[df_downsampled['No-show']==0]\n",
    "df_minority = df_downsampled[df_downsampled['No-show']==1]\n",
    "\n",
    "print('Proportion of minority class after downsampling: {:2.2f}%'.format(100*df_minority.shape[0]/df_downsampled.shape[0]))\n",
    "print('Proportion of majority class after downsampling: {:2.2f}%'.format(100*df_majority.shape[0]/df_downsampled.shape[0]))"
   ]
  },
  {
   "cell_type": "code",
   "execution_count": 47,
   "metadata": {},
   "outputs": [],
   "source": [
    "#Upweight the samples by mulitplying original_weight by downsampling_factor and have the example_weight {example_weight} = {original_weight} x {downsampling_factor}\n",
    "# create column of original index before resampling\n",
    "df_downsampled = df_downsampled.reset_index()\n",
    "\n",
    "# get the weights\n",
    "weight_factor = round(downsampling_factor)\n",
    "weights = np.ones(df_downsampled.shape[0])\n",
    "\n",
    "# if original index is in resampled_index change weight\n",
    "cols = df_downsampled.columns\n",
    "df_downsampled.columns = ['original_index'] + list(cols)[1:]\n",
    "df_downsampled['weight'] = df_downsampled.original_index.map(lambda x: weight_factor if x in resampled_index else 1).values"
   ]
  },
  {
   "cell_type": "markdown",
   "metadata": {},
   "source": [
    "- We can scale and split the data again "
   ]
  },
  {
   "cell_type": "code",
   "execution_count": 48,
   "metadata": {},
   "outputs": [],
   "source": [
    "X = df_downsampled.drop(columns='No-show')\n",
    "y = df_downsampled['No-show']\n",
    "scaler = MinMaxScaler()\n",
    "X_to_scale = X.drop(columns=['original_index', 'weight'])\n",
    "cols = X_to_scale.columns\n",
    "X_std = scaler.fit_transform(X_to_scale)\n",
    "X_std = pd.DataFrame(X_std)\n",
    "\n",
    "# reappend 'original_index', 'weight' to the dataframe\n",
    "X_std = X_std.join(X[['original_index', 'weight']])\n",
    "X_std.columns = list(cols) + ['original_index', 'weight']"
   ]
  },
  {
   "cell_type": "code",
   "execution_count": 49,
   "metadata": {},
   "outputs": [
    {
     "name": "stdout",
     "output_type": "stream",
     "text": [
      "Train size:(31059, 114)\n",
      "Test size:(13312, 114)\n"
     ]
    }
   ],
   "source": [
    "X_train, X_test, y_train, y_test = train_test_split(X_std, y, test_size=0.30, random_state=0)\n",
    "\n",
    "print('Train size:{}'.format(X_train.shape))\n",
    "print('Test size:{}'.format(X_test.shape))"
   ]
  },
  {
   "cell_type": "code",
   "execution_count": 50,
   "metadata": {},
   "outputs": [],
   "source": [
    "weights = X_train.weight\n",
    "X_train = X_train.drop(columns=['original_index','weight'])\n",
    "X_test = X_test.drop(columns=['original_index','weight'])"
   ]
  },
  {
   "cell_type": "markdown",
   "metadata": {},
   "source": [
    "**1. Random Forest Classifier after mitigating the imbalanced data**"
   ]
  },
  {
   "cell_type": "code",
   "execution_count": 53,
   "metadata": {},
   "outputs": [
    {
     "name": "stderr",
     "output_type": "stream",
     "text": [
      "/Users/diopmouhamed/.pyenv/versions/anaconda3-2019.10/lib/python3.7/site-packages/sklearn/ensemble/forest.py:245: FutureWarning: The default value of n_estimators will change from 10 in version 0.20 to 100 in 0.22.\n",
      "  \"10 in version 0.20 to 100 in 0.22.\", FutureWarning)\n"
     ]
    },
    {
     "name": "stdout",
     "output_type": "stream",
     "text": [
      "Random Forest - Accuracy: 88.14%\n",
      "Random Forest - Precision score: 85.86%\n",
      "Random Forest - Recall score: 91.55%\n",
      "Random Forest - F1-score: 88.62%\n"
     ]
    }
   ],
   "source": [
    "clf1 = RandomForestClassifier(random_state = 0)\n",
    "clf1.fit(X_train, y_train, sample_weight=weights)\n",
    "y_preds = clf1.predict(X_test)\n",
    "print('Random Forest - Accuracy: {:2.2f}%'.format(accuracy_score(y_test, y_preds) * 100))\n",
    "print('Random Forest - Precision score: {:2.2f}%'.format(precision_score(y_test, y_preds)*100))\n",
    "print('Random Forest - Recall score: {:2.2f}%'.format(recall_score(y_test, y_preds)*100))\n",
    "print('Random Forest - F1-score: {:2.2f}%'.format(f1_score(y_test, y_preds) * 100))"
   ]
  },
  {
   "cell_type": "code",
   "execution_count": 54,
   "metadata": {},
   "outputs": [
    {
     "data": {
      "text/plain": [
       "array([[5587, 1012],\n",
       "       [ 567, 6146]])"
      ]
     },
     "execution_count": 54,
     "metadata": {},
     "output_type": "execute_result"
    }
   ],
   "source": [
    "tn, fp, fn, tp = confusion_matrix(y_test, y_preds).ravel()\n",
    "confusion_matrix(y_test, y_preds)"
   ]
  },
  {
   "cell_type": "markdown",
   "metadata": {},
   "source": [
    "As we can see and expected, the F1 score for the Random Forest went from 65% to 88% after downsampling."
   ]
  },
  {
   "cell_type": "markdown",
   "metadata": {},
   "source": [
    "**2. Gradient Boosting Classifier after nitigating the imbalanced data**"
   ]
  },
  {
   "cell_type": "code",
   "execution_count": 55,
   "metadata": {},
   "outputs": [
    {
     "name": "stdout",
     "output_type": "stream",
     "text": [
      "Gradient Boosting - Accuracy: 89.45%\n",
      "Gradient Boosting - Precision score: 84.32%\n",
      "Gradient Boosting - Recall score: 97.15%\n",
      "Gradient Boosting - F1-score: 90.28%\n"
     ]
    }
   ],
   "source": [
    "clf = GradientBoostingClassifier(random_state=0)\n",
    "clf.fit(X_train, y_train)\n",
    "y_preds = clf.predict(X_test)\n",
    "acc = accuracy_score(y_test, y_preds) * 100\n",
    "precision = precision_score(y_test, y_preds)*100\n",
    "recall = recall_score(y_test, y_preds)*100\n",
    "f_score = f1_score(y_test, y_preds) * 100\n",
    "\n",
    "print('Gradient Boosting - Accuracy: {:2.2f}%'.format(acc))\n",
    "print('Gradient Boosting - Precision score: {:2.2f}%'.format(precision))\n",
    "print('Gradient Boosting - Recall score: {:2.2f}%'.format(recall))\n",
    "print('Gradient Boosting - F1-score: {:2.2f}%'.format(f_score))"
   ]
  },
  {
   "cell_type": "code",
   "execution_count": 56,
   "metadata": {},
   "outputs": [
    {
     "data": {
      "text/plain": [
       "array([[5386, 1213],\n",
       "       [ 191, 6522]])"
      ]
     },
     "execution_count": 56,
     "metadata": {},
     "output_type": "execute_result"
    }
   ],
   "source": [
    "tn, fp, fn, tp = confusion_matrix(y_test, y_preds).ravel()\n",
    "confusion_matrix(y_test, y_preds)"
   ]
  },
  {
   "cell_type": "markdown",
   "metadata": {},
   "source": [
    "Same improvements can be seen here after downsampling."
   ]
  },
  {
   "cell_type": "markdown",
   "metadata": {},
   "source": [
    "## Results"
   ]
  },
  {
   "cell_type": "code",
   "execution_count": 57,
   "metadata": {},
   "outputs": [
    {
     "data": {
      "image/png": "[encoded data removed]",
      "text/plain": [
       "<Figure size 432x288 with 1 Axes>"
      ]
     },
     "metadata": {
      "needs_background": "light"
     },
     "output_type": "display_data"
    }
   ],
   "source": [
    "%matplotlib inline\n",
    "\n",
    "x = ['Acc', 'Precision','Recall', 'F1']\n",
    "metrics = [acc, precision, recall, f_score]\n",
    "plt.gca().yaxis.grid(True)\n",
    "x_pos = [i for i, _ in enumerate(x)]\n",
    "plt.bar(x_pos, metrics, color='crimson')\n",
    "plt.xlabel(\"Metrics\")\n",
    "plt.ylabel(\"Percentage\")\n",
    "plt.xticks(x_pos, x)\n",
    "plt.show()"
   ]
  },
  {
   "cell_type": "markdown",
   "metadata": {},
   "source": [
    "**Let's save the results**"
   ]
  },
  {
   "cell_type": "code",
   "execution_count": 59,
   "metadata": {},
   "outputs": [
    {
     "data": {
      "text/plain": [
       "['appointments_prediction.joblib']"
      ]
     },
     "execution_count": 59,
     "metadata": {},
     "output_type": "execute_result"
    }
   ],
   "source": [
    "import joblib\n",
    "joblib.dump(clf, 'appointments_prediction.joblib')"
   ]
  },
  {
   "cell_type": "code",
   "execution_count": null,
   "metadata": {},
   "outputs": [],
   "source": []
  }
 ],
 "metadata": {
  "kernelspec": {
   "display_name": "Python 3",
   "language": "python",
   "name": "python3"
  },
  "language_info": {
   "codemirror_mode": {
    "name": "ipython",
    "version": 3
   },
   "file_extension": ".py",
   "mimetype": "text/x-python",
   "name": "python",
   "nbconvert_exporter": "python",
   "pygments_lexer": "ipython3",
   "version": "3.7.4"
  }
 },
 "nbformat": 4,
 "nbformat_minor": 2
}
